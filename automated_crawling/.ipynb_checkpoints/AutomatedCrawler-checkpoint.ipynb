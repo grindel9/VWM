{
 "cells": [
  {
   "cell_type": "markdown",
   "metadata": {},
   "source": [
    "# This is a script to run automated crawling"
   ]
  },
  {
   "cell_type": "markdown",
   "metadata": {},
   "source": [
    "### Import necessary libaries"
   ]
  },
  {
   "cell_type": "code",
   "execution_count": 1,
   "metadata": {},
   "outputs": [],
   "source": [
    "import json\n",
    "import subprocess\n",
    "import matplotlib.pyplot as plt\n",
    "import pandas as pd"
   ]
  },
  {
   "cell_type": "markdown",
   "metadata": {},
   "source": [
    "### Set plotting params"
   ]
  },
  {
   "cell_type": "code",
   "execution_count": 2,
   "metadata": {},
   "outputs": [],
   "source": [
    "plt.rcParams['figure.figsize'] = (10, 6)\n",
    "plt.rcParams['font.size'] = 14"
   ]
  },
  {
   "cell_type": "markdown",
   "metadata": {},
   "source": [
    "### Define needed constants"
   ]
  },
  {
   "cell_type": "code",
   "execution_count": 28,
   "metadata": {},
   "outputs": [],
   "source": [
    "JAR_FILE_PATH = '/home/gorq/Desktop/vwm-final/VWM/walker_2.0/out/artifacts/walker_2_0_jar/walker_2.0.jar'\n",
    "DB_URL = 'localhost:3306'\n",
    "DB_NAME = 'market'\n",
    "USERNAME = 'gorq'\n",
    "PASSWORD = 'hesloheslo'"
   ]
  },
  {
   "cell_type": "markdown",
   "metadata": {},
   "source": [
    "### Define an experiment class"
   ]
  },
  {
   "cell_type": "code",
   "execution_count": 26,
   "metadata": {},
   "outputs": [],
   "source": [
    "class Experiment:\n",
    "    def __init__(self, dct: dict, prod_json: str) -> None:\n",
    "        self._dct = dct\n",
    "        self._prod_json = prod_json\n",
    "    \n",
    "    @property\n",
    "    def timeout(self) -> int:\n",
    "        return self._dct['timeout']\n",
    "    \n",
    "    @property\n",
    "    def request_limit(self) -> int:\n",
    "        return self._dct['request limit']\n",
    "    \n",
    "    @property\n",
    "    def ordering(self) -> str:\n",
    "        return self._dct['ordering']\n",
    "    \n",
    "    @property\n",
    "    def average_depth(self) -> float:\n",
    "        return self._dct['average depth']\n",
    "    \n",
    "    @property\n",
    "    def average_branching(self) -> float:\n",
    "        return self._dct['average branching']\n",
    "    \n",
    "    @property\n",
    "    def C(self) -> float:\n",
    "        return self._dct['walker']['C']\n",
    "    \n",
    "    @property\n",
    "    def acquired_amount(self) -> int:\n",
    "        return self._dct['walker']['acquired amount']\n",
    "    \n",
    "    @property\n",
    "    def unaccepted_amount(self) -> int:\n",
    "        return self._dct['not accepted']\n",
    "    \n",
    "    @property\n",
    "    def report_frequency(self) -> float:\n",
    "        return self._dct['reporter']['frequency']\n",
    "    \n",
    "    @property\n",
    "    def progress_list(self) -> list:\n",
    "        return self._dct['reporter']['acquired times']\n",
    "    \n",
    "    @property\n",
    "    def products_df(self) -> pd.DataFrame:\n",
    "        return pd.read_json(self._prod_json, orient='records')\n",
    "    \n",
    "    def toPSV(self) -> str:\n",
    "        return f'\\\n",
    "{self.timeout}|\\\n",
    "{self.request_limit}|\\\n",
    "{self.ordering}|\\\n",
    "{self.C}|\\\n",
    "{self.average_depth}|\\\n",
    "{self.average_branching}|\\\n",
    "{self.report_frequency}|\\\n",
    "{self.progress_list}|\\\n",
    "{self.acquired_amount}|\\\n",
    "{self.unaccepted_amount}\\\n",
    "'\n",
    "    \n",
    "    def graph(self) -> None:\n",
    "        plt.rcParams['figure.figsize'] = (10, 7)\n",
    "        plt.rcParams['font.size'] = 15\n",
    "        plt.ylabel('Acquired amount')\n",
    "        plt.xlabel('Time passed (seconds)')\n",
    "        \n",
    "        plt.grid(True)\n",
    "        \n",
    "        plt.plot(\n",
    "            [0]+[ self.report_frequency*x for x in range(1, len(self.progress_list)+1)],\n",
    "            [0]+self.progress_list,\n",
    "            label='Progress'\n",
    "        )\n",
    "        \n",
    "        \n",
    "        plt.legend()\n",
    "        plt.show()\n",
    "        \n",
    "        \n",
    "    def outputInfo(self) -> None:\n",
    "        print(self)\n",
    "        self.graph()\n",
    "    \n",
    "    def __str__(self) -> str:\n",
    "        return f'''\n",
    "--------------------------------------------------------\n",
    "| Timeout: {self.timeout} seconds\n",
    "| Request limit: {self.request_limit}\n",
    "| Ordering: {self.ordering}\n",
    "| C: {self.C}\n",
    "| Average depth: {self.average_depth}\n",
    "| Average branching: {self.average_branching}\n",
    "| Report frequency: {round(1/self.report_frequency, 3)} updates per second\n",
    "| Progress list sample: {self.progress_list[:5]}...\n",
    "| Acquired amount: {self.acquired_amount}\n",
    "| Not accepted amount: {self.unaccepted_amount}\n",
    "--------------------------------------------------------\n",
    "'''"
   ]
  },
  {
   "cell_type": "markdown",
   "metadata": {},
   "source": [
    "### Create a function to run an experiment"
   ]
  },
  {
   "cell_type": "code",
   "execution_count": 19,
   "metadata": {},
   "outputs": [],
   "source": [
    "def run_experiment(\n",
    "        db_url: str,\n",
    "        db_name: str,\n",
    "        username: str,\n",
    "        password: str,\n",
    "        *_,\n",
    "        timeout: int = 10,\n",
    "        request_limit: int = 1,\n",
    "        C: int = 1,\n",
    "        frequency: float = 1,\n",
    "        stat_file: str,\n",
    "        products_file: str,\n",
    "        ordering: str = 'fixed',\n",
    "        wanted: int\n",
    "    ) -> Experiment:\n",
    "    to_run = f'''\n",
    "        java -jar {JAR_FILE_PATH}\n",
    "        --db-url {db_url}\n",
    "        --db-name {db_name}\n",
    "        --username {username}\n",
    "        --password {password}\n",
    "        --timeout {timeout}\n",
    "        --request-limit {request_limit}\n",
    "        --wanted-sample {wanted}\n",
    "        --set-c {C}\n",
    "        --report-frequency {frequency}\n",
    "        --output-stats {stat_file}\n",
    "        --get-products {products_file}\n",
    "        --ordering {ordering}\n",
    "    '''\n",
    "    \n",
    "    process = subprocess.Popen(to_run.split(), stdout=subprocess.PIPE)\n",
    "    o, e = process.communicate()\n",
    "    \n",
    "    with open(stat_file, 'r') as f:\n",
    "        return Experiment(json.load(f), products_file)"
   ]
  },
  {
   "cell_type": "markdown",
   "metadata": {},
   "source": [
    "### Run the experiment itself"
   ]
  },
  {
   "cell_type": "code",
   "execution_count": 29,
   "metadata": {},
   "outputs": [],
   "source": [
    "exp = run_experiment(\n",
    "    DB_URL,\n",
    "    DB_NAME,\n",
    "    USERNAME,\n",
    "    PASSWORD,\n",
    "    timeout=5,\n",
    "    C=2,\n",
    "    stat_file='test.json',\n",
    "    products_file='test2.json',\n",
    "    wanted=1000\n",
    ")"
   ]
  }
 ],
 "metadata": {
  "kernelspec": {
   "display_name": "Python 3",
   "language": "python",
   "name": "python3"
  },
  "language_info": {
   "codemirror_mode": {
    "name": "ipython",
    "version": 3
   },
   "file_extension": ".py",
   "mimetype": "text/x-python",
   "name": "python",
   "nbconvert_exporter": "python",
   "pygments_lexer": "ipython3",
   "version": "3.7.6"
  }
 },
 "nbformat": 4,
 "nbformat_minor": 4
}
